{
 "cells": [
  {
   "cell_type": "code",
   "execution_count": 828,
   "id": "883cd275-53ea-459d-aa6a-01577fca6c28",
   "metadata": {},
   "outputs": [],
   "source": [
    "import pandas as pd\n",
    "import sqlite3\n",
    "import matplotlib.pyplot as plt"
   ]
  },
  {
   "cell_type": "code",
   "execution_count": 829,
   "id": "27f541a0-b681-41b9-abcd-deb42dab5b87",
   "metadata": {},
   "outputs": [
    {
     "name": "stdout",
     "output_type": "stream",
     "text": [
      "num_trades = 17\n",
      "num_completed_trades = 4\n",
      "num_win_trades = 4\n",
      "win_rate = 1.0\n",
      "avg_return = 0.005497742919979377\n",
      "sum_return = 0.02199097167991751\n"
     ]
    }
   ],
   "source": [
    "# Connect to your database.\n",
    "conn = sqlite3.connect('/home/sumkin/sumkin-trading/data/trades.db')\n",
    "conn.row_factory = sqlite3.Row\n",
    "cursor = conn.cursor()\n",
    "\n",
    "# Number of trades.\n",
    "cursor.execute(\"SELECT COUNT(*) FROM cointegration_pair_trades\")\n",
    "num_trades = cursor.fetchone()[0]\n",
    "\n",
    "# Number of completed trades.\n",
    "cursor.execute(\"SELECT COUNT(*) FROM cointegration_pair_trades WHERE active = 0\")\n",
    "num_completed_trades = cursor.fetchone()[0]\n",
    "\n",
    "# Number of wins.\n",
    "cursor.execute(\"SELECT COUNT(*) FROM cointegration_pair_trades WHERE active = 0 and return > 0\")\n",
    "num_win_trades = cursor.fetchone()[0]\n",
    "\n",
    "# Win rate.\n",
    "win_rate = num_win_trades / num_completed_trades\n",
    "\n",
    "# Average return in pct.\n",
    "cursor.execute(\"SELECT AVG(return) FROM cointegration_pair_trades WHERE active = 0\")\n",
    "avg_return = cursor.fetchone()[0]\n",
    "\n",
    "# Averate return.\n",
    "cursor.execute(\"SELECT SUM(return) FROM cointegration_pair_trades WHERE active = 0\")\n",
    "sum_return = cursor.fetchone()[0]\n",
    "\n",
    "print(\"num_trades = {}\".format(num_trades))\n",
    "print(\"num_completed_trades = {}\".format(num_completed_trades))\n",
    "print(\"num_win_trades = {}\".format(num_win_trades))\n",
    "print(\"win_rate = {}\".format(win_rate))\n",
    "print(\"avg_return = {}\".format(avg_return))\n",
    "print(\"sum_return = {}\".format(sum_return))"
   ]
  },
  {
   "cell_type": "code",
   "execution_count": 830,
   "id": "0fd8ecd8-994f-47a6-8974-512e1b81f880",
   "metadata": {},
   "outputs": [
    {
     "data": {
      "text/html": [
       "<div>\n",
       "<style scoped>\n",
       "    .dataframe tbody tr th:only-of-type {\n",
       "        vertical-align: middle;\n",
       "    }\n",
       "\n",
       "    .dataframe tbody tr th {\n",
       "        vertical-align: top;\n",
       "    }\n",
       "\n",
       "    .dataframe thead th {\n",
       "        text-align: right;\n",
       "    }\n",
       "</style>\n",
       "<table border=\"1\" class=\"dataframe\">\n",
       "  <thead>\n",
       "    <tr style=\"text-align: right;\">\n",
       "      <th></th>\n",
       "      <th>id</th>\n",
       "      <th>symb1</th>\n",
       "      <th>symb2</th>\n",
       "      <th>hedge</th>\n",
       "      <th>coeff</th>\n",
       "      <th>sigma</th>\n",
       "      <th>enter_dt</th>\n",
       "      <th>exit_dt</th>\n",
       "      <th>side</th>\n",
       "      <th>amnt</th>\n",
       "      <th>return_pct</th>\n",
       "      <th>return</th>\n",
       "      <th>active</th>\n",
       "      <th>p1_enter</th>\n",
       "      <th>p2_enter</th>\n",
       "      <th>p1_exit</th>\n",
       "      <th>p2_exit</th>\n",
       "      <th>trade_length</th>\n",
       "    </tr>\n",
       "  </thead>\n",
       "  <tbody>\n",
       "    <tr>\n",
       "      <th>0</th>\n",
       "      <td>417</td>\n",
       "      <td>PF_ADAUSD</td>\n",
       "      <td>PF_SANDUSD</td>\n",
       "      <td>0.350188</td>\n",
       "      <td>-0.019430</td>\n",
       "      <td>0.001575</td>\n",
       "      <td>2025-10-10 17:01:38</td>\n",
       "      <td>NaT</td>\n",
       "      <td>BUY</td>\n",
       "      <td>1.225746</td>\n",
       "      <td>NaN</td>\n",
       "      <td>NaN</td>\n",
       "      <td>1</td>\n",
       "      <td>0.81583</td>\n",
       "      <td>0.27080</td>\n",
       "      <td>NaN</td>\n",
       "      <td>NaN</td>\n",
       "      <td>NaN</td>\n",
       "    </tr>\n",
       "    <tr>\n",
       "      <th>10</th>\n",
       "      <td>427</td>\n",
       "      <td>PF_TIAUSD</td>\n",
       "      <td>PF_VIRTUALUSD</td>\n",
       "      <td>0.982477</td>\n",
       "      <td>-0.348917</td>\n",
       "      <td>0.010246</td>\n",
       "      <td>2025-10-10 17:01:38</td>\n",
       "      <td>NaT</td>\n",
       "      <td>SELL</td>\n",
       "      <td>0.682128</td>\n",
       "      <td>NaN</td>\n",
       "      <td>NaN</td>\n",
       "      <td>1</td>\n",
       "      <td>1.46600</td>\n",
       "      <td>1.07330</td>\n",
       "      <td>NaN</td>\n",
       "      <td>NaN</td>\n",
       "      <td>NaN</td>\n",
       "    </tr>\n",
       "    <tr>\n",
       "      <th>9</th>\n",
       "      <td>426</td>\n",
       "      <td>PF_CRVUSD</td>\n",
       "      <td>PF_PNUTUSD</td>\n",
       "      <td>0.307110</td>\n",
       "      <td>-0.018288</td>\n",
       "      <td>0.004042</td>\n",
       "      <td>2025-10-10 17:01:38</td>\n",
       "      <td>NaT</td>\n",
       "      <td>SELL</td>\n",
       "      <td>1.331026</td>\n",
       "      <td>NaN</td>\n",
       "      <td>NaN</td>\n",
       "      <td>1</td>\n",
       "      <td>0.75130</td>\n",
       "      <td>0.20553</td>\n",
       "      <td>NaN</td>\n",
       "      <td>NaN</td>\n",
       "      <td>NaN</td>\n",
       "    </tr>\n",
       "    <tr>\n",
       "      <th>7</th>\n",
       "      <td>424</td>\n",
       "      <td>PF_TRXUSD</td>\n",
       "      <td>PF_MELANIAUSD</td>\n",
       "      <td>1.160720</td>\n",
       "      <td>-0.217083</td>\n",
       "      <td>0.001837</td>\n",
       "      <td>2025-10-10 17:01:38</td>\n",
       "      <td>NaT</td>\n",
       "      <td>BUY</td>\n",
       "      <td>2.973447</td>\n",
       "      <td>NaN</td>\n",
       "      <td>NaN</td>\n",
       "      <td>1</td>\n",
       "      <td>0.33631</td>\n",
       "      <td>0.17610</td>\n",
       "      <td>NaN</td>\n",
       "      <td>NaN</td>\n",
       "      <td>NaN</td>\n",
       "    </tr>\n",
       "    <tr>\n",
       "      <th>6</th>\n",
       "      <td>423</td>\n",
       "      <td>PF_TRXUSD</td>\n",
       "      <td>PF_POPCATUSD</td>\n",
       "      <td>2.062870</td>\n",
       "      <td>-0.467726</td>\n",
       "      <td>0.003360</td>\n",
       "      <td>2025-10-10 17:01:38</td>\n",
       "      <td>NaT</td>\n",
       "      <td>BUY</td>\n",
       "      <td>2.973447</td>\n",
       "      <td>NaN</td>\n",
       "      <td>NaN</td>\n",
       "      <td>1</td>\n",
       "      <td>0.33631</td>\n",
       "      <td>0.23223</td>\n",
       "      <td>NaN</td>\n",
       "      <td>NaN</td>\n",
       "      <td>NaN</td>\n",
       "    </tr>\n",
       "  </tbody>\n",
       "</table>\n",
       "</div>"
      ],
      "text/plain": [
       "     id      symb1          symb2     hedge     coeff     sigma  \\\n",
       "0   417  PF_ADAUSD     PF_SANDUSD  0.350188 -0.019430  0.001575   \n",
       "10  427  PF_TIAUSD  PF_VIRTUALUSD  0.982477 -0.348917  0.010246   \n",
       "9   426  PF_CRVUSD     PF_PNUTUSD  0.307110 -0.018288  0.004042   \n",
       "7   424  PF_TRXUSD  PF_MELANIAUSD  1.160720 -0.217083  0.001837   \n",
       "6   423  PF_TRXUSD   PF_POPCATUSD  2.062870 -0.467726  0.003360   \n",
       "\n",
       "              enter_dt exit_dt  side      amnt  return_pct  return  active  \\\n",
       "0  2025-10-10 17:01:38     NaT   BUY  1.225746         NaN     NaN       1   \n",
       "10 2025-10-10 17:01:38     NaT  SELL  0.682128         NaN     NaN       1   \n",
       "9  2025-10-10 17:01:38     NaT  SELL  1.331026         NaN     NaN       1   \n",
       "7  2025-10-10 17:01:38     NaT   BUY  2.973447         NaN     NaN       1   \n",
       "6  2025-10-10 17:01:38     NaT   BUY  2.973447         NaN     NaN       1   \n",
       "\n",
       "    p1_enter  p2_enter  p1_exit  p2_exit  trade_length  \n",
       "0    0.81583   0.27080      NaN      NaN           NaN  \n",
       "10   1.46600   1.07330      NaN      NaN           NaN  \n",
       "9    0.75130   0.20553      NaN      NaN           NaN  \n",
       "7    0.33631   0.17610      NaN      NaN           NaN  \n",
       "6    0.33631   0.23223      NaN      NaN           NaN  "
      ]
     },
     "execution_count": 830,
     "metadata": {},
     "output_type": "execute_result"
    }
   ],
   "source": [
    "df = pd.read_sql_query(\"SELECT * FROM cointegration_pair_trades\", conn)\n",
    "df[\"enter_dt\"] = pd.to_datetime(df[\"enter_dt\"])\n",
    "df[\"exit_dt\"] = pd.to_datetime(df[\"exit_dt\"])\n",
    "df[\"trade_length\"] = (df[\"exit_dt\"] - df[\"enter_dt\"]).dt.total_seconds() / 60\n",
    "df.sort_values(\"enter_dt\", ascending=True, inplace=True)\n",
    "df[df[\"active\"] == 1].head(5)"
   ]
  },
  {
   "cell_type": "markdown",
   "id": "370e2acc-3d96-4dea-9539-1dc511ef65b9",
   "metadata": {},
   "source": [
    "# Return percentage distribution"
   ]
  },
  {
   "cell_type": "code",
   "execution_count": 831,
   "id": "74cd193d-7041-4a49-96ec-0d61e4545796",
   "metadata": {},
   "outputs": [
    {
     "data": {
      "image/png": "[encoded data removed]",
      "text/plain": [
       "<Figure size 1000x600 with 1 Axes>"
      ]
     },
     "metadata": {},
     "output_type": "display_data"
    }
   ],
   "source": [
    "plt.figure(figsize=(10, 6))\n",
    "plt.hist(df[df[\"active\"] == 0][\"return_pct\"])\n",
    "plt.xlabel(\"Return\")\n",
    "plt.title(\"Histogram of returns\")\n",
    "plt.grid(True, alpha=0.3)\n",
    "plt.show()"
   ]
  },
  {
   "cell_type": "code",
   "execution_count": 832,
   "id": "e231d00d-d893-4591-b6b6-3eb4639354fb",
   "metadata": {},
   "outputs": [
    {
     "data": {
      "image/png": "[encoded data removed]",
      "text/plain": [
       "<Figure size 1000x600 with 1 Axes>"
      ]
     },
     "metadata": {},
     "output_type": "display_data"
    }
   ],
   "source": [
    "plt.figure(figsize=(10, 6))\n",
    "plt.scatter(df[\"trade_length\"], df[\"return\"], alpha=0.5)\n",
    "plt.xlabel(\"Trade Length (minutes)\")\n",
    "plt.ylabel(\"Return\")\n",
    "plt.title(\"Trade Length vs Return\")\n",
    "plt.grid(True, alpha=0.3)\n",
    "plt.show()"
   ]
  },
  {
   "cell_type": "markdown",
   "id": "8e997225-9db2-4a34-92ef-62b580b9714d",
   "metadata": {},
   "source": [
    "#### "
   ]
  },
  {
   "cell_type": "code",
   "execution_count": null,
   "id": "78deedf6-cdcc-477f-9714-4e96c81b9a50",
   "metadata": {},
   "outputs": [],
   "source": []
  }
 ],
 "metadata": {
  "kernelspec": {
   "display_name": "Python 3 (ipykernel)",
   "language": "python",
   "name": "python3"
  },
  "language_info": {
   "codemirror_mode": {
    "name": "ipython",
    "version": 3
   },
   "file_extension": ".py",
   "mimetype": "text/x-python",
   "name": "python",
   "nbconvert_exporter": "python",
   "pygments_lexer": "ipython3",
   "version": "3.13.5"
  }
 },
 "nbformat": 4,
 "nbformat_minor": 5
}
