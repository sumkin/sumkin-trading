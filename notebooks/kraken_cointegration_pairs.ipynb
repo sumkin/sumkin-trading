{
 "cells": [
  {
   "cell_type": "code",
   "execution_count": 1383,
   "id": "883cd275-53ea-459d-aa6a-01577fca6c28",
   "metadata": {},
   "outputs": [],
   "source": [
    "import pandas as pd\n",
    "import sqlite3\n",
    "import matplotlib.pyplot as plt"
   ]
  },
  {
   "cell_type": "code",
   "execution_count": 1384,
   "id": "27f541a0-b681-41b9-abcd-deb42dab5b87",
   "metadata": {},
   "outputs": [
    {
     "name": "stdout",
     "output_type": "stream",
     "text": [
      "num_trades = 70\n",
      "num_completed_trades = 38\n",
      "num_win_trades = 24\n",
      "win_rate = 0.631578947368421\n",
      "avg_return = 0.0033124991435167193\n",
      "sum_return = 0.12587496745363533\n"
     ]
    }
   ],
   "source": [
    "# Connect to your database.\n",
    "conn = sqlite3.connect('/home/sumkin/sumkin-trading/data/trades.db')\n",
    "conn.row_factory = sqlite3.Row\n",
    "cursor = conn.cursor()\n",
    "\n",
    "# Number of trades.\n",
    "cursor.execute(\"SELECT COUNT(*) FROM cointegration_pair_trades\")\n",
    "num_trades = cursor.fetchone()[0]\n",
    "\n",
    "# Number of completed trades.\n",
    "cursor.execute(\"SELECT COUNT(*) FROM cointegration_pair_trades WHERE active = 0\")\n",
    "num_completed_trades = cursor.fetchone()[0]\n",
    "\n",
    "# Number of wins.\n",
    "cursor.execute(\"SELECT COUNT(*) FROM cointegration_pair_trades WHERE active = 0 and return_pct > 0\")\n",
    "num_win_trades = cursor.fetchone()[0]\n",
    "\n",
    "# Win rate.\n",
    "win_rate = num_win_trades / num_completed_trades\n",
    "\n",
    "# Average return in pct.\n",
    "cursor.execute(\"SELECT AVG(return_pct) FROM cointegration_pair_trades WHERE active = 0\")\n",
    "avg_return = cursor.fetchone()[0]\n",
    "\n",
    "# Averate return.\n",
    "cursor.execute(\"SELECT SUM(return_pct) FROM cointegration_pair_trades WHERE active = 0\")\n",
    "sum_return = cursor.fetchone()[0]\n",
    "\n",
    "print(\"num_trades = {}\".format(num_trades))\n",
    "print(\"num_completed_trades = {}\".format(num_completed_trades))\n",
    "print(\"num_win_trades = {}\".format(num_win_trades))\n",
    "print(\"win_rate = {}\".format(win_rate))\n",
    "print(\"avg_return = {}\".format(avg_return))\n",
    "print(\"sum_return = {}\".format(sum_return))"
   ]
  },
  {
   "cell_type": "code",
   "execution_count": 1385,
   "id": "0fd8ecd8-994f-47a6-8974-512e1b81f880",
   "metadata": {},
   "outputs": [
    {
     "data": {
      "text/html": [
       "<div>\n",
       "<style scoped>\n",
       "    .dataframe tbody tr th:only-of-type {\n",
       "        vertical-align: middle;\n",
       "    }\n",
       "\n",
       "    .dataframe tbody tr th {\n",
       "        vertical-align: top;\n",
       "    }\n",
       "\n",
       "    .dataframe thead th {\n",
       "        text-align: right;\n",
       "    }\n",
       "</style>\n",
       "<table border=\"1\" class=\"dataframe\">\n",
       "  <thead>\n",
       "    <tr style=\"text-align: right;\">\n",
       "      <th></th>\n",
       "      <th>id</th>\n",
       "      <th>symb1</th>\n",
       "      <th>symb2</th>\n",
       "      <th>hedge</th>\n",
       "      <th>coeff</th>\n",
       "      <th>sigma</th>\n",
       "      <th>enter_dt</th>\n",
       "      <th>exit_dt</th>\n",
       "      <th>side</th>\n",
       "      <th>amnt</th>\n",
       "      <th>return_pct</th>\n",
       "      <th>return</th>\n",
       "      <th>active</th>\n",
       "      <th>p1_enter</th>\n",
       "      <th>p2_enter</th>\n",
       "      <th>p1_exit</th>\n",
       "      <th>p2_exit</th>\n",
       "      <th>trade_length</th>\n",
       "    </tr>\n",
       "  </thead>\n",
       "  <tbody>\n",
       "    <tr>\n",
       "      <th>1</th>\n",
       "      <td>849</td>\n",
       "      <td>PF_ATOMUSD</td>\n",
       "      <td>PF_RENDERUSD</td>\n",
       "      <td>0.892828</td>\n",
       "      <td>-0.377280</td>\n",
       "      <td>0.090438</td>\n",
       "      <td>2025-10-14 00:59:56</td>\n",
       "      <td>NaT</td>\n",
       "      <td>BUY</td>\n",
       "      <td>0.275558</td>\n",
       "      <td>NaN</td>\n",
       "      <td>NaN</td>\n",
       "      <td>1</td>\n",
       "      <td>3.6290</td>\n",
       "      <td>3.03480</td>\n",
       "      <td>NaN</td>\n",
       "      <td>NaN</td>\n",
       "      <td>NaN</td>\n",
       "    </tr>\n",
       "    <tr>\n",
       "      <th>2</th>\n",
       "      <td>850</td>\n",
       "      <td>PF_DOTUSD</td>\n",
       "      <td>PF_CRVUSD</td>\n",
       "      <td>0.211895</td>\n",
       "      <td>-0.136217</td>\n",
       "      <td>0.023085</td>\n",
       "      <td>2025-10-14 00:59:56</td>\n",
       "      <td>NaT</td>\n",
       "      <td>BUY</td>\n",
       "      <td>0.293513</td>\n",
       "      <td>NaN</td>\n",
       "      <td>NaN</td>\n",
       "      <td>1</td>\n",
       "      <td>3.4070</td>\n",
       "      <td>0.62690</td>\n",
       "      <td>NaN</td>\n",
       "      <td>NaN</td>\n",
       "      <td>NaN</td>\n",
       "    </tr>\n",
       "    <tr>\n",
       "      <th>3</th>\n",
       "      <td>851</td>\n",
       "      <td>PF_DOTUSD</td>\n",
       "      <td>PF_VIRTUALUSD</td>\n",
       "      <td>0.324748</td>\n",
       "      <td>-0.272497</td>\n",
       "      <td>0.023145</td>\n",
       "      <td>2025-10-14 00:59:56</td>\n",
       "      <td>NaT</td>\n",
       "      <td>BUY</td>\n",
       "      <td>0.293513</td>\n",
       "      <td>NaN</td>\n",
       "      <td>NaN</td>\n",
       "      <td>1</td>\n",
       "      <td>3.4070</td>\n",
       "      <td>0.87390</td>\n",
       "      <td>NaN</td>\n",
       "      <td>NaN</td>\n",
       "      <td>NaN</td>\n",
       "    </tr>\n",
       "    <tr>\n",
       "      <th>9</th>\n",
       "      <td>857</td>\n",
       "      <td>PF_RUNEUSD</td>\n",
       "      <td>PF_PNUTUSD</td>\n",
       "      <td>0.229598</td>\n",
       "      <td>-0.061840</td>\n",
       "      <td>0.002836</td>\n",
       "      <td>2025-10-14 00:59:56</td>\n",
       "      <td>NaT</td>\n",
       "      <td>BUY</td>\n",
       "      <td>1.043732</td>\n",
       "      <td>NaN</td>\n",
       "      <td>NaN</td>\n",
       "      <td>1</td>\n",
       "      <td>0.9581</td>\n",
       "      <td>0.16289</td>\n",
       "      <td>NaN</td>\n",
       "      <td>NaN</td>\n",
       "      <td>NaN</td>\n",
       "    </tr>\n",
       "    <tr>\n",
       "      <th>11</th>\n",
       "      <td>859</td>\n",
       "      <td>PF_WLDUSD</td>\n",
       "      <td>PF_VIRTUALUSD</td>\n",
       "      <td>1.129159</td>\n",
       "      <td>-0.324656</td>\n",
       "      <td>0.026738</td>\n",
       "      <td>2025-10-14 00:59:56</td>\n",
       "      <td>NaT</td>\n",
       "      <td>BUY</td>\n",
       "      <td>0.986291</td>\n",
       "      <td>NaN</td>\n",
       "      <td>NaN</td>\n",
       "      <td>1</td>\n",
       "      <td>1.0139</td>\n",
       "      <td>0.87390</td>\n",
       "      <td>NaN</td>\n",
       "      <td>NaN</td>\n",
       "      <td>NaN</td>\n",
       "    </tr>\n",
       "  </tbody>\n",
       "</table>\n",
       "</div>"
      ],
      "text/plain": [
       "     id       symb1          symb2     hedge     coeff     sigma  \\\n",
       "1   849  PF_ATOMUSD   PF_RENDERUSD  0.892828 -0.377280  0.090438   \n",
       "2   850   PF_DOTUSD      PF_CRVUSD  0.211895 -0.136217  0.023085   \n",
       "3   851   PF_DOTUSD  PF_VIRTUALUSD  0.324748 -0.272497  0.023145   \n",
       "9   857  PF_RUNEUSD     PF_PNUTUSD  0.229598 -0.061840  0.002836   \n",
       "11  859   PF_WLDUSD  PF_VIRTUALUSD  1.129159 -0.324656  0.026738   \n",
       "\n",
       "              enter_dt exit_dt side      amnt  return_pct  return  active  \\\n",
       "1  2025-10-14 00:59:56     NaT  BUY  0.275558         NaN     NaN       1   \n",
       "2  2025-10-14 00:59:56     NaT  BUY  0.293513         NaN     NaN       1   \n",
       "3  2025-10-14 00:59:56     NaT  BUY  0.293513         NaN     NaN       1   \n",
       "9  2025-10-14 00:59:56     NaT  BUY  1.043732         NaN     NaN       1   \n",
       "11 2025-10-14 00:59:56     NaT  BUY  0.986291         NaN     NaN       1   \n",
       "\n",
       "    p1_enter  p2_enter  p1_exit  p2_exit  trade_length  \n",
       "1     3.6290   3.03480      NaN      NaN           NaN  \n",
       "2     3.4070   0.62690      NaN      NaN           NaN  \n",
       "3     3.4070   0.87390      NaN      NaN           NaN  \n",
       "9     0.9581   0.16289      NaN      NaN           NaN  \n",
       "11    1.0139   0.87390      NaN      NaN           NaN  "
      ]
     },
     "execution_count": 1385,
     "metadata": {},
     "output_type": "execute_result"
    }
   ],
   "source": [
    "df = pd.read_sql_query(\"SELECT * FROM cointegration_pair_trades\", conn)\n",
    "df[\"enter_dt\"] = pd.to_datetime(df[\"enter_dt\"])\n",
    "df[\"exit_dt\"] = pd.to_datetime(df[\"exit_dt\"])\n",
    "df[\"trade_length\"] = (df[\"exit_dt\"] - df[\"enter_dt\"]).dt.total_seconds() / 60\n",
    "df.sort_values(\"enter_dt\", ascending=True, inplace=True)\n",
    "df[df[\"active\"] == 1].head(5)"
   ]
  },
  {
   "cell_type": "markdown",
   "id": "370e2acc-3d96-4dea-9539-1dc511ef65b9",
   "metadata": {},
   "source": [
    "# Return percentage distribution"
   ]
  },
  {
   "cell_type": "code",
   "execution_count": 1386,
   "id": "74cd193d-7041-4a49-96ec-0d61e4545796",
   "metadata": {},
   "outputs": [
    {
     "data": {
      "image/png": "[encoded data removed]",
      "text/plain": [
       "<Figure size 1000x600 with 1 Axes>"
      ]
     },
     "metadata": {},
     "output_type": "display_data"
    }
   ],
   "source": [
    "plt.figure(figsize=(10, 6))\n",
    "plt.hist(df[df[\"active\"] == 0][\"return_pct\"])\n",
    "plt.xlabel(\"Return\")\n",
    "plt.title(\"Histogram of returns\")\n",
    "plt.grid(True, alpha=0.3)\n",
    "plt.show()"
   ]
  },
  {
   "cell_type": "code",
   "execution_count": 1387,
   "id": "e231d00d-d893-4591-b6b6-3eb4639354fb",
   "metadata": {},
   "outputs": [
    {
     "data": {
      "image/png": "[encoded data removed]",
      "text/plain": [
       "<Figure size 1000x600 with 1 Axes>"
      ]
     },
     "metadata": {},
     "output_type": "display_data"
    }
   ],
   "source": [
    "plt.figure(figsize=(10, 6))\n",
    "plt.scatter(df[\"trade_length\"], df[\"return\"], alpha=0.5)\n",
    "plt.xlabel(\"Trade Length (minutes)\")\n",
    "plt.ylabel(\"Return\")\n",
    "plt.title(\"Trade Length vs Return\")\n",
    "plt.grid(True, alpha=0.3)\n",
    "plt.show()"
   ]
  }
 ],
 "metadata": {
  "kernelspec": {
   "display_name": "Python 3 (ipykernel)",
   "language": "python",
   "name": "python3"
  },
  "language_info": {
   "codemirror_mode": {
    "name": "ipython",
    "version": 3
   },
   "file_extension": ".py",
   "mimetype": "text/x-python",
   "name": "python",
   "nbconvert_exporter": "python",
   "pygments_lexer": "ipython3",
   "version": "3.13.5"
  }
 },
 "nbformat": 4,
 "nbformat_minor": 5
}
