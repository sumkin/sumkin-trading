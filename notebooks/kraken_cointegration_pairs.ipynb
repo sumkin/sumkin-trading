{
 "cells": [
  {
   "cell_type": "code",
   "execution_count": 1078,
   "id": "883cd275-53ea-459d-aa6a-01577fca6c28",
   "metadata": {},
   "outputs": [],
   "source": [
    "import pandas as pd\n",
    "import sqlite3\n",
    "import matplotlib.pyplot as plt"
   ]
  },
  {
   "cell_type": "code",
   "execution_count": 1079,
   "id": "27f541a0-b681-41b9-abcd-deb42dab5b87",
   "metadata": {},
   "outputs": [
    {
     "name": "stdout",
     "output_type": "stream",
     "text": [
      "num_trades = 142\n",
      "num_completed_trades = 91\n",
      "num_win_trades = 57\n",
      "win_rate = 0.6263736263736264\n",
      "avg_return = 0.17844484643445038\n",
      "sum_return = 16.238481025534984\n"
     ]
    }
   ],
   "source": [
    "# Connect to your database.\n",
    "conn = sqlite3.connect('/home/sumkin/sumkin-trading/data/trades.db')\n",
    "conn.row_factory = sqlite3.Row\n",
    "cursor = conn.cursor()\n",
    "\n",
    "# Number of trades.\n",
    "cursor.execute(\"SELECT COUNT(*) FROM cointegration_pair_trades\")\n",
    "num_trades = cursor.fetchone()[0]\n",
    "\n",
    "# Number of completed trades.\n",
    "cursor.execute(\"SELECT COUNT(*) FROM cointegration_pair_trades WHERE active = 0\")\n",
    "num_completed_trades = cursor.fetchone()[0]\n",
    "\n",
    "# Number of wins.\n",
    "cursor.execute(\"SELECT COUNT(*) FROM cointegration_pair_trades WHERE active = 0 and return_pct > 0\")\n",
    "num_win_trades = cursor.fetchone()[0]\n",
    "\n",
    "# Win rate.\n",
    "win_rate = num_win_trades / num_completed_trades\n",
    "\n",
    "# Average return in pct.\n",
    "cursor.execute(\"SELECT AVG(return_pct) FROM cointegration_pair_trades WHERE active = 0\")\n",
    "avg_return = cursor.fetchone()[0]\n",
    "\n",
    "# Averate return.\n",
    "cursor.execute(\"SELECT SUM(return_pct) FROM cointegration_pair_trades WHERE active = 0\")\n",
    "sum_return = cursor.fetchone()[0]\n",
    "\n",
    "print(\"num_trades = {}\".format(num_trades))\n",
    "print(\"num_completed_trades = {}\".format(num_completed_trades))\n",
    "print(\"num_win_trades = {}\".format(num_win_trades))\n",
    "print(\"win_rate = {}\".format(win_rate))\n",
    "print(\"avg_return = {}\".format(avg_return))\n",
    "print(\"sum_return = {}\".format(sum_return))"
   ]
  },
  {
   "cell_type": "code",
   "execution_count": 1080,
   "id": "0fd8ecd8-994f-47a6-8974-512e1b81f880",
   "metadata": {},
   "outputs": [
    {
     "data": {
      "text/html": [
       "<div>\n",
       "<style scoped>\n",
       "    .dataframe tbody tr th:only-of-type {\n",
       "        vertical-align: middle;\n",
       "    }\n",
       "\n",
       "    .dataframe tbody tr th {\n",
       "        vertical-align: top;\n",
       "    }\n",
       "\n",
       "    .dataframe thead th {\n",
       "        text-align: right;\n",
       "    }\n",
       "</style>\n",
       "<table border=\"1\" class=\"dataframe\">\n",
       "  <thead>\n",
       "    <tr style=\"text-align: right;\">\n",
       "      <th></th>\n",
       "      <th>id</th>\n",
       "      <th>symb1</th>\n",
       "      <th>symb2</th>\n",
       "      <th>hedge</th>\n",
       "      <th>coeff</th>\n",
       "      <th>sigma</th>\n",
       "      <th>enter_dt</th>\n",
       "      <th>exit_dt</th>\n",
       "      <th>side</th>\n",
       "      <th>amnt</th>\n",
       "      <th>return_pct</th>\n",
       "      <th>return</th>\n",
       "      <th>active</th>\n",
       "      <th>p1_enter</th>\n",
       "      <th>p2_enter</th>\n",
       "      <th>p1_exit</th>\n",
       "      <th>p2_exit</th>\n",
       "      <th>trade_length</th>\n",
       "    </tr>\n",
       "  </thead>\n",
       "  <tbody>\n",
       "    <tr>\n",
       "      <th>17</th>\n",
       "      <td>720</td>\n",
       "      <td>PF_TIAUSD</td>\n",
       "      <td>PF_WIFUSD</td>\n",
       "      <td>0.467691</td>\n",
       "      <td>0.042344</td>\n",
       "      <td>0.009864</td>\n",
       "      <td>2025-10-13 00:36:04</td>\n",
       "      <td>NaT</td>\n",
       "      <td>BUY</td>\n",
       "      <td>0.937734</td>\n",
       "      <td>NaN</td>\n",
       "      <td>NaN</td>\n",
       "      <td>1</td>\n",
       "      <td>1.0664</td>\n",
       "      <td>0.56180</td>\n",
       "      <td>NaN</td>\n",
       "      <td>NaN</td>\n",
       "      <td>NaN</td>\n",
       "    </tr>\n",
       "    <tr>\n",
       "      <th>12</th>\n",
       "      <td>715</td>\n",
       "      <td>PF_IMXUSD</td>\n",
       "      <td>PF_SUSD</td>\n",
       "      <td>0.486610</td>\n",
       "      <td>-0.062608</td>\n",
       "      <td>0.010060</td>\n",
       "      <td>2025-10-13 00:36:04</td>\n",
       "      <td>NaT</td>\n",
       "      <td>SELL</td>\n",
       "      <td>1.731302</td>\n",
       "      <td>NaN</td>\n",
       "      <td>NaN</td>\n",
       "      <td>1</td>\n",
       "      <td>0.5776</td>\n",
       "      <td>0.20080</td>\n",
       "      <td>NaN</td>\n",
       "      <td>NaN</td>\n",
       "      <td>NaN</td>\n",
       "    </tr>\n",
       "    <tr>\n",
       "      <th>4</th>\n",
       "      <td>707</td>\n",
       "      <td>PF_KAVAUSD</td>\n",
       "      <td>PF_STRKUSD</td>\n",
       "      <td>0.292654</td>\n",
       "      <td>0.065399</td>\n",
       "      <td>0.005831</td>\n",
       "      <td>2025-10-13 00:36:04</td>\n",
       "      <td>NaT</td>\n",
       "      <td>BUY</td>\n",
       "      <td>5.205622</td>\n",
       "      <td>NaN</td>\n",
       "      <td>NaN</td>\n",
       "      <td>1</td>\n",
       "      <td>0.1921</td>\n",
       "      <td>0.13344</td>\n",
       "      <td>NaN</td>\n",
       "      <td>NaN</td>\n",
       "      <td>NaN</td>\n",
       "    </tr>\n",
       "    <tr>\n",
       "      <th>10</th>\n",
       "      <td>713</td>\n",
       "      <td>PF_IMXUSD</td>\n",
       "      <td>PF_POLUSD</td>\n",
       "      <td>0.239900</td>\n",
       "      <td>0.070818</td>\n",
       "      <td>0.004833</td>\n",
       "      <td>2025-10-13 00:36:04</td>\n",
       "      <td>NaT</td>\n",
       "      <td>SELL</td>\n",
       "      <td>1.731302</td>\n",
       "      <td>NaN</td>\n",
       "      <td>NaN</td>\n",
       "      <td>1</td>\n",
       "      <td>0.5776</td>\n",
       "      <td>0.19968</td>\n",
       "      <td>NaN</td>\n",
       "      <td>NaN</td>\n",
       "      <td>NaN</td>\n",
       "    </tr>\n",
       "    <tr>\n",
       "      <th>26</th>\n",
       "      <td>729</td>\n",
       "      <td>PF_AAVEUSD</td>\n",
       "      <td>PF_COMPUSD</td>\n",
       "      <td>0.222519</td>\n",
       "      <td>-19.540474</td>\n",
       "      <td>1.017551</td>\n",
       "      <td>2025-10-13 00:40:34</td>\n",
       "      <td>NaT</td>\n",
       "      <td>SELL</td>\n",
       "      <td>0.004002</td>\n",
       "      <td>NaN</td>\n",
       "      <td>NaN</td>\n",
       "      <td>1</td>\n",
       "      <td>249.9000</td>\n",
       "      <td>34.52600</td>\n",
       "      <td>NaN</td>\n",
       "      <td>NaN</td>\n",
       "      <td>NaN</td>\n",
       "    </tr>\n",
       "  </tbody>\n",
       "</table>\n",
       "</div>"
      ],
      "text/plain": [
       "     id       symb1       symb2     hedge      coeff     sigma  \\\n",
       "17  720   PF_TIAUSD   PF_WIFUSD  0.467691   0.042344  0.009864   \n",
       "12  715   PF_IMXUSD     PF_SUSD  0.486610  -0.062608  0.010060   \n",
       "4   707  PF_KAVAUSD  PF_STRKUSD  0.292654   0.065399  0.005831   \n",
       "10  713   PF_IMXUSD   PF_POLUSD  0.239900   0.070818  0.004833   \n",
       "26  729  PF_AAVEUSD  PF_COMPUSD  0.222519 -19.540474  1.017551   \n",
       "\n",
       "              enter_dt exit_dt  side      amnt  return_pct  return  active  \\\n",
       "17 2025-10-13 00:36:04     NaT   BUY  0.937734         NaN     NaN       1   \n",
       "12 2025-10-13 00:36:04     NaT  SELL  1.731302         NaN     NaN       1   \n",
       "4  2025-10-13 00:36:04     NaT   BUY  5.205622         NaN     NaN       1   \n",
       "10 2025-10-13 00:36:04     NaT  SELL  1.731302         NaN     NaN       1   \n",
       "26 2025-10-13 00:40:34     NaT  SELL  0.004002         NaN     NaN       1   \n",
       "\n",
       "    p1_enter  p2_enter  p1_exit  p2_exit  trade_length  \n",
       "17    1.0664   0.56180      NaN      NaN           NaN  \n",
       "12    0.5776   0.20080      NaN      NaN           NaN  \n",
       "4     0.1921   0.13344      NaN      NaN           NaN  \n",
       "10    0.5776   0.19968      NaN      NaN           NaN  \n",
       "26  249.9000  34.52600      NaN      NaN           NaN  "
      ]
     },
     "execution_count": 1080,
     "metadata": {},
     "output_type": "execute_result"
    }
   ],
   "source": [
    "df = pd.read_sql_query(\"SELECT * FROM cointegration_pair_trades\", conn)\n",
    "df[\"enter_dt\"] = pd.to_datetime(df[\"enter_dt\"])\n",
    "df[\"exit_dt\"] = pd.to_datetime(df[\"exit_dt\"])\n",
    "df[\"trade_length\"] = (df[\"exit_dt\"] - df[\"enter_dt\"]).dt.total_seconds() / 60\n",
    "df.sort_values(\"enter_dt\", ascending=True, inplace=True)\n",
    "df[df[\"active\"] == 1].head(5)"
   ]
  },
  {
   "cell_type": "markdown",
   "id": "370e2acc-3d96-4dea-9539-1dc511ef65b9",
   "metadata": {},
   "source": [
    "# Return percentage distribution"
   ]
  },
  {
   "cell_type": "code",
   "execution_count": 1081,
   "id": "74cd193d-7041-4a49-96ec-0d61e4545796",
   "metadata": {},
   "outputs": [
    {
     "data": {
      "image/png": "[encoded data removed]",
      "text/plain": [
       "<Figure size 1000x600 with 1 Axes>"
      ]
     },
     "metadata": {},
     "output_type": "display_data"
    }
   ],
   "source": [
    "plt.figure(figsize=(10, 6))\n",
    "plt.hist(df[df[\"active\"] == 0][\"return_pct\"])\n",
    "plt.xlabel(\"Return\")\n",
    "plt.title(\"Histogram of returns\")\n",
    "plt.grid(True, alpha=0.3)\n",
    "plt.show()"
   ]
  },
  {
   "cell_type": "code",
   "execution_count": 1082,
   "id": "e231d00d-d893-4591-b6b6-3eb4639354fb",
   "metadata": {},
   "outputs": [
    {
     "data": {
      "image/png": "[encoded data removed]",
      "text/plain": [
       "<Figure size 1000x600 with 1 Axes>"
      ]
     },
     "metadata": {},
     "output_type": "display_data"
    }
   ],
   "source": [
    "plt.figure(figsize=(10, 6))\n",
    "plt.scatter(df[\"trade_length\"], df[\"return\"], alpha=0.5)\n",
    "plt.xlabel(\"Trade Length (minutes)\")\n",
    "plt.ylabel(\"Return\")\n",
    "plt.title(\"Trade Length vs Return\")\n",
    "plt.grid(True, alpha=0.3)\n",
    "plt.show()"
   ]
  }
 ],
 "metadata": {
  "kernelspec": {
   "display_name": "Python 3 (ipykernel)",
   "language": "python",
   "name": "python3"
  },
  "language_info": {
   "codemirror_mode": {
    "name": "ipython",
    "version": 3
   },
   "file_extension": ".py",
   "mimetype": "text/x-python",
   "name": "python",
   "nbconvert_exporter": "python",
   "pygments_lexer": "ipython3",
   "version": "3.13.5"
  }
 },
 "nbformat": 4,
 "nbformat_minor": 5
}
