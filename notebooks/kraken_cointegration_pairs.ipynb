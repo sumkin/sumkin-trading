{
 "cells": [
  {
   "cell_type": "code",
   "execution_count": 750,
   "id": "883cd275-53ea-459d-aa6a-01577fca6c28",
   "metadata": {},
   "outputs": [],
   "source": [
    "import pandas as pd\n",
    "import sqlite3\n",
    "import matplotlib.pyplot as plt"
   ]
  },
  {
   "cell_type": "code",
   "execution_count": 751,
   "id": "27f541a0-b681-41b9-abcd-deb42dab5b87",
   "metadata": {},
   "outputs": [
    {
     "name": "stdout",
     "output_type": "stream",
     "text": [
      "num_trades = 239\n",
      "num_completed_trades = 225\n",
      "num_win_trades = 138\n",
      "win_rate = 0.6133333333333333\n",
      "avg_return = 0.0853800376879782\n",
      "sum_return = 19.210508479795095\n"
     ]
    }
   ],
   "source": [
    "# Connect to your database.\n",
    "conn = sqlite3.connect('/home/sumkin/sumkin-trading/data/trades.db')\n",
    "conn.row_factory = sqlite3.Row\n",
    "cursor = conn.cursor()\n",
    "\n",
    "# Number of trades.\n",
    "cursor.execute(\"SELECT COUNT(*) FROM cointegration_pair_trades\")\n",
    "num_trades = cursor.fetchone()[0]\n",
    "\n",
    "# Number of completed trades.\n",
    "cursor.execute(\"SELECT COUNT(*) FROM cointegration_pair_trades WHERE active = 0\")\n",
    "num_completed_trades = cursor.fetchone()[0]\n",
    "\n",
    "# Number of wins.\n",
    "cursor.execute(\"SELECT COUNT(*) FROM cointegration_pair_trades WHERE active = 0 and return > 0\")\n",
    "num_win_trades = cursor.fetchone()[0]\n",
    "\n",
    "# Win rate.\n",
    "win_rate = num_win_trades / num_completed_trades\n",
    "\n",
    "# Average return in pct.\n",
    "cursor.execute(\"SELECT AVG(return) FROM cointegration_pair_trades WHERE active = 0\")\n",
    "avg_return = cursor.fetchone()[0]\n",
    "\n",
    "# Averate return.\n",
    "cursor.execute(\"SELECT SUM(return) FROM cointegration_pair_trades WHERE active = 0\")\n",
    "sum_return = cursor.fetchone()[0]\n",
    "\n",
    "print(\"num_trades = {}\".format(num_trades))\n",
    "print(\"num_completed_trades = {}\".format(num_completed_trades))\n",
    "print(\"num_win_trades = {}\".format(num_win_trades))\n",
    "print(\"win_rate = {}\".format(win_rate))\n",
    "print(\"avg_return = {}\".format(avg_return))\n",
    "print(\"sum_return = {}\".format(sum_return))"
   ]
  },
  {
   "cell_type": "code",
   "execution_count": 752,
   "id": "0fd8ecd8-994f-47a6-8974-512e1b81f880",
   "metadata": {},
   "outputs": [
    {
     "data": {
      "text/html": [
       "<div>\n",
       "<style scoped>\n",
       "    .dataframe tbody tr th:only-of-type {\n",
       "        vertical-align: middle;\n",
       "    }\n",
       "\n",
       "    .dataframe tbody tr th {\n",
       "        vertical-align: top;\n",
       "    }\n",
       "\n",
       "    .dataframe thead th {\n",
       "        text-align: right;\n",
       "    }\n",
       "</style>\n",
       "<table border=\"1\" class=\"dataframe\">\n",
       "  <thead>\n",
       "    <tr style=\"text-align: right;\">\n",
       "      <th></th>\n",
       "      <th>id</th>\n",
       "      <th>symb1</th>\n",
       "      <th>symb2</th>\n",
       "      <th>hedge</th>\n",
       "      <th>coeff</th>\n",
       "      <th>sigma</th>\n",
       "      <th>enter_dt</th>\n",
       "      <th>exit_dt</th>\n",
       "      <th>side</th>\n",
       "      <th>amnt</th>\n",
       "      <th>return_pct</th>\n",
       "      <th>return</th>\n",
       "      <th>active</th>\n",
       "      <th>p1_enter</th>\n",
       "      <th>p2_enter</th>\n",
       "      <th>p1_exit</th>\n",
       "      <th>p2_exit</th>\n",
       "      <th>trade_length</th>\n",
       "    </tr>\n",
       "  </thead>\n",
       "  <tbody>\n",
       "    <tr>\n",
       "      <th>185</th>\n",
       "      <td>363</td>\n",
       "      <td>PF_CRVUSD</td>\n",
       "      <td>PF_PNUTUSD</td>\n",
       "      <td>0.265639</td>\n",
       "      <td>0.013686</td>\n",
       "      <td>0.003636</td>\n",
       "      <td>2025-10-09 18:06:04</td>\n",
       "      <td>NaT</td>\n",
       "      <td>SELL</td>\n",
       "      <td>1.380262</td>\n",
       "      <td>NaN</td>\n",
       "      <td>NaN</td>\n",
       "      <td>1</td>\n",
       "      <td>0.72450</td>\n",
       "      <td>0.20005</td>\n",
       "      <td>NaN</td>\n",
       "      <td>NaN</td>\n",
       "      <td>NaN</td>\n",
       "    </tr>\n",
       "    <tr>\n",
       "      <th>188</th>\n",
       "      <td>366</td>\n",
       "      <td>PF_CRVUSD</td>\n",
       "      <td>PF_JUPUSD</td>\n",
       "      <td>0.490840</td>\n",
       "      <td>0.079979</td>\n",
       "      <td>0.005370</td>\n",
       "      <td>2025-10-09 19:06:06</td>\n",
       "      <td>NaT</td>\n",
       "      <td>SELL</td>\n",
       "      <td>1.386770</td>\n",
       "      <td>NaN</td>\n",
       "      <td>NaN</td>\n",
       "      <td>1</td>\n",
       "      <td>0.72110</td>\n",
       "      <td>0.42400</td>\n",
       "      <td>NaN</td>\n",
       "      <td>NaN</td>\n",
       "      <td>NaN</td>\n",
       "    </tr>\n",
       "    <tr>\n",
       "      <th>196</th>\n",
       "      <td>374</td>\n",
       "      <td>PF_CRVUSD</td>\n",
       "      <td>PF_WIFUSD</td>\n",
       "      <td>1.156989</td>\n",
       "      <td>-0.120688</td>\n",
       "      <td>0.013388</td>\n",
       "      <td>2025-10-09 22:06:02</td>\n",
       "      <td>NaT</td>\n",
       "      <td>SELL</td>\n",
       "      <td>1.372495</td>\n",
       "      <td>NaN</td>\n",
       "      <td>NaN</td>\n",
       "      <td>1</td>\n",
       "      <td>0.72860</td>\n",
       "      <td>0.70000</td>\n",
       "      <td>NaN</td>\n",
       "      <td>NaN</td>\n",
       "      <td>NaN</td>\n",
       "    </tr>\n",
       "    <tr>\n",
       "      <th>215</th>\n",
       "      <td>393</td>\n",
       "      <td>PF_SEIUSD</td>\n",
       "      <td>PF_PYTHUSD</td>\n",
       "      <td>0.471942</td>\n",
       "      <td>0.023426</td>\n",
       "      <td>0.001574</td>\n",
       "      <td>2025-10-10 07:06:02</td>\n",
       "      <td>NaT</td>\n",
       "      <td>SELL</td>\n",
       "      <td>3.467767</td>\n",
       "      <td>NaN</td>\n",
       "      <td>NaN</td>\n",
       "      <td>1</td>\n",
       "      <td>0.28837</td>\n",
       "      <td>0.15651</td>\n",
       "      <td>NaN</td>\n",
       "      <td>NaN</td>\n",
       "      <td>NaN</td>\n",
       "    </tr>\n",
       "    <tr>\n",
       "      <th>222</th>\n",
       "      <td>400</td>\n",
       "      <td>PF_SEIUSD</td>\n",
       "      <td>PF_MELANIAUSD</td>\n",
       "      <td>0.526897</td>\n",
       "      <td>0.025644</td>\n",
       "      <td>0.001618</td>\n",
       "      <td>2025-10-10 09:06:03</td>\n",
       "      <td>NaT</td>\n",
       "      <td>SELL</td>\n",
       "      <td>3.461166</td>\n",
       "      <td>NaN</td>\n",
       "      <td>NaN</td>\n",
       "      <td>1</td>\n",
       "      <td>0.28892</td>\n",
       "      <td>0.17540</td>\n",
       "      <td>NaN</td>\n",
       "      <td>NaN</td>\n",
       "      <td>NaN</td>\n",
       "    </tr>\n",
       "  </tbody>\n",
       "</table>\n",
       "</div>"
      ],
      "text/plain": [
       "      id      symb1          symb2     hedge     coeff     sigma  \\\n",
       "185  363  PF_CRVUSD     PF_PNUTUSD  0.265639  0.013686  0.003636   \n",
       "188  366  PF_CRVUSD      PF_JUPUSD  0.490840  0.079979  0.005370   \n",
       "196  374  PF_CRVUSD      PF_WIFUSD  1.156989 -0.120688  0.013388   \n",
       "215  393  PF_SEIUSD     PF_PYTHUSD  0.471942  0.023426  0.001574   \n",
       "222  400  PF_SEIUSD  PF_MELANIAUSD  0.526897  0.025644  0.001618   \n",
       "\n",
       "               enter_dt exit_dt  side      amnt  return_pct  return  active  \\\n",
       "185 2025-10-09 18:06:04     NaT  SELL  1.380262         NaN     NaN       1   \n",
       "188 2025-10-09 19:06:06     NaT  SELL  1.386770         NaN     NaN       1   \n",
       "196 2025-10-09 22:06:02     NaT  SELL  1.372495         NaN     NaN       1   \n",
       "215 2025-10-10 07:06:02     NaT  SELL  3.467767         NaN     NaN       1   \n",
       "222 2025-10-10 09:06:03     NaT  SELL  3.461166         NaN     NaN       1   \n",
       "\n",
       "     p1_enter  p2_enter  p1_exit  p2_exit  trade_length  \n",
       "185   0.72450   0.20005      NaN      NaN           NaN  \n",
       "188   0.72110   0.42400      NaN      NaN           NaN  \n",
       "196   0.72860   0.70000      NaN      NaN           NaN  \n",
       "215   0.28837   0.15651      NaN      NaN           NaN  \n",
       "222   0.28892   0.17540      NaN      NaN           NaN  "
      ]
     },
     "execution_count": 752,
     "metadata": {},
     "output_type": "execute_result"
    }
   ],
   "source": [
    "df = pd.read_sql_query(\"SELECT * FROM cointegration_pair_trades\", conn)\n",
    "df[\"enter_dt\"] = pd.to_datetime(df[\"enter_dt\"])\n",
    "df[\"exit_dt\"] = pd.to_datetime(df[\"exit_dt\"])\n",
    "df[\"trade_length\"] = (df[\"exit_dt\"] - df[\"enter_dt\"]).dt.total_seconds() / 60\n",
    "df.sort_values(\"enter_dt\", ascending=True, inplace=True)\n",
    "df[df[\"active\"] == 1].head(5)"
   ]
  },
  {
   "cell_type": "markdown",
   "id": "370e2acc-3d96-4dea-9539-1dc511ef65b9",
   "metadata": {},
   "source": [
    "# Return percentage distribution"
   ]
  },
  {
   "cell_type": "code",
   "execution_count": 753,
   "id": "74cd193d-7041-4a49-96ec-0d61e4545796",
   "metadata": {},
   "outputs": [
    {
     "data": {
      "image/png": "[encoded data removed]",
      "text/plain": [
       "<Figure size 1000x600 with 1 Axes>"
      ]
     },
     "metadata": {},
     "output_type": "display_data"
    }
   ],
   "source": [
    "plt.figure(figsize=(10, 6))\n",
    "plt.hist(df[df[\"active\"] == 0][\"return_pct\"])\n",
    "plt.xlabel(\"Return\")\n",
    "plt.title(\"Histogram of returns\")\n",
    "plt.grid(True, alpha=0.3)\n",
    "plt.show()"
   ]
  },
  {
   "cell_type": "code",
   "execution_count": 754,
   "id": "e231d00d-d893-4591-b6b6-3eb4639354fb",
   "metadata": {},
   "outputs": [
    {
     "data": {
      "image/png": "[encoded data removed]",
      "text/plain": [
       "<Figure size 1000x600 with 1 Axes>"
      ]
     },
     "metadata": {},
     "output_type": "display_data"
    }
   ],
   "source": [
    "plt.figure(figsize=(10, 6))\n",
    "plt.scatter(df[\"trade_length\"], df[\"return\"], alpha=0.5)\n",
    "plt.xlabel(\"Trade Length (minutes)\")\n",
    "plt.ylabel(\"Return\")\n",
    "plt.title(\"Trade Length vs Return\")\n",
    "plt.grid(True, alpha=0.3)\n",
    "plt.show()"
   ]
  },
  {
   "cell_type": "markdown",
   "id": "8e997225-9db2-4a34-92ef-62b580b9714d",
   "metadata": {},
   "source": [
    "#### "
   ]
  },
  {
   "cell_type": "code",
   "execution_count": null,
   "id": "78deedf6-cdcc-477f-9714-4e96c81b9a50",
   "metadata": {},
   "outputs": [],
   "source": []
  }
 ],
 "metadata": {
  "kernelspec": {
   "display_name": "Python 3 (ipykernel)",
   "language": "python",
   "name": "python3"
  },
  "language_info": {
   "codemirror_mode": {
    "name": "ipython",
    "version": 3
   },
   "file_extension": ".py",
   "mimetype": "text/x-python",
   "name": "python",
   "nbconvert_exporter": "python",
   "pygments_lexer": "ipython3",
   "version": "3.13.5"
  }
 },
 "nbformat": 4,
 "nbformat_minor": 5
}
